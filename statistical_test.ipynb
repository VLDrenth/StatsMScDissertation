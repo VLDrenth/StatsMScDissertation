{
 "cells": [
  {
   "cell_type": "code",
   "execution_count": 1,
   "metadata": {},
   "outputs": [],
   "source": [
    "import pandas as pd\n",
    "import numpy as np\n",
    "import matplotlib.pyplot as plt\n",
    "import seaborn as sns\n",
    "\n",
    "from scipy import stats\n",
    "from main.utils import load_experiments\n",
    "import os\n",
    "from scipy.stats import friedmanchisquare\n",
    "import scikit_posthocs as sp"
   ]
  },
  {
   "cell_type": "markdown",
   "metadata": {},
   "source": [
    "### Pre-loading names"
   ]
  },
  {
   "cell_type": "code",
   "execution_count": 3,
   "metadata": {},
   "outputs": [],
   "source": [
    "methods = [ 'random', 'entropy', 'bald', 'badge', 'max_logdet_S', 'similarity_kmeans']\n",
    "datasets = ['mnist', 'dirty_mnist', 'repeated_mnist', 'fashion_mnist', 'imagenet']\n",
    "\n",
    "# naming of methods\n",
    "method_names = {\n",
    "    'badge': 'BADGE',\n",
    "    'random': 'Random',\n",
    "    'entropy': 'Entropy',\n",
    "    'bald': 'BALD',\n",
    "    'max_logdet_S': 'Similarity LogDet',\n",
    "    'empirical_covariance': 'Empirical Covariance',\n",
    "    'similarity_kmeans': 'Similarity K-Means',\n",
    "}\n",
    "\n",
    "\n",
    "# naming of datasets\n",
    "dataset_names = {\n",
    "    'mnist': 'MNIST',\n",
    "    'fashion_mnist': 'Fashion-MNIST',\n",
    "    'dirty_mnist': 'Dirty-MNIST',\n",
    "    'repeated_mnist': 'Repeated-MNIST',\n",
    "    'imagenet': 'ImageNet',\n",
    "}\n",
    "\n",
    "n_seeds = 10"
   ]
  },
  {
   "cell_type": "code",
   "execution_count": 9,
   "metadata": {},
   "outputs": [],
   "source": [
    "results = {}\n",
    "for method in methods:\n",
    "    results[method] = {}\n",
    "    for dataset in datasets:\n",
    "        experiment_ids = [f'{method}_{dataset}_20_to_200_B=20_{i + 1}' for i in range(n_seeds)]\n",
    "        \n",
    "        res = load_experiments(experiment_ids, base_dir='experiments_batch20')\n",
    "        #res = load_experiments(experiment_ids, base_dir='experiments_dirty_mnist_10' if dataset == 'dirty_mnist' else 'experiments')\n",
    "        accuracies = [[result[1]['test_accs'] for result in res]]\n",
    "        results[method][dataset] = accuracies\n",
    "\n",
    "# put all results in a single dataframe\n",
    "data = []\n",
    "for method in methods:\n",
    "    for dataset in datasets:\n",
    "        for result in results[method][dataset]:\n",
    "            for j in range(n_seeds):\n",
    "                data.append({\n",
    "                    'method': method,\n",
    "                    'dataset': dataset,\n",
    "                    'seed': j,\n",
    "                    'accuracy': result[j][-1],\n",
    "                })\n",
    "\n",
    "df = pd.DataFrame(data)"
   ]
  },
  {
   "cell_type": "markdown",
   "metadata": {},
   "source": [
    "## Friedman + Nemenyi"
   ]
  },
  {
   "cell_type": "code",
   "execution_count": 10,
   "metadata": {},
   "outputs": [
    {
     "name": "stdout",
     "output_type": "stream",
     "text": [
      "Friedman Test Statistic: 94.40000000000009, p-value: 7.985542734556428e-19\n"
     ]
    }
   ],
   "source": [
    "# Reshape DataFrame for the Friedman Test\n",
    "pivot_df = df.pivot_table(index=['dataset', 'seed'], columns='method', values='accuracy')\n",
    "\n",
    "# Perform Friedman Test\n",
    "friedman_stat, p_value = friedmanchisquare(*[pivot_df[method] for method in pivot_df.columns])\n",
    "\n",
    "print(f\"Friedman Test Statistic: {friedman_stat}, p-value: {p_value}\")\n",
    "\n",
    "# Perform Nemenyi Post-hoc Test\n",
    "nemenyi_results = sp.posthoc_nemenyi_friedman(pivot_df.values)\n",
    "\n",
    "# Format Nemenyi test results\n",
    "method_names = pivot_df.columns\n",
    "nemenyi_df = pd.DataFrame(nemenyi_results)\n",
    "nemenyi_df.columns = method_names\n",
    "nemenyi_df.index = method_names\n",
    "\n",
    "\n",
    "# Display styled DataFrame\n",
    "nemenyi_df.to_csv('nemenyi_results_20_excluding.csv')"
   ]
  }
 ],
 "metadata": {
  "kernelspec": {
   "display_name": ".venv",
   "language": "python",
   "name": "python3"
  },
  "language_info": {
   "codemirror_mode": {
    "name": "ipython",
    "version": 3
   },
   "file_extension": ".py",
   "mimetype": "text/x-python",
   "name": "python",
   "nbconvert_exporter": "python",
   "pygments_lexer": "ipython3",
   "version": "3.12.1"
  }
 },
 "nbformat": 4,
 "nbformat_minor": 2
}
