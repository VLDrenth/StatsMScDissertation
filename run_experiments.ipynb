{
 "cells": [
  {
   "cell_type": "code",
   "execution_count": null,
   "metadata": {},
   "outputs": [],
   "source": [
    "import torch\n",
    "import numpy as np\n",
    "import random\n",
    "\n",
    "from main.models import ConvNet, get_model_constructor\n",
    "from main.utils import save_experiment\n",
    "from dataclasses import dataclass\n",
    "from main.active_learning import run_active_learning\n",
    "from main.prepare_data import create_dataloaders\n",
    "from configurations import get_config\n",
    "\n",
    "%reload_ext autoreload\n",
    "%autoreload 2\n",
    "\n",
    "device = torch.device('cuda' if torch.cuda.is_available() else 'cpu')\n",
    "print(f\"Using device: {device}\")\n",
    "\n",
    "# pick 10 super random numbers\n",
    "fixed_seeds = [12345, 23456, 34567, 45678, 56789, 67890, 78901, 89012, 90123, 12340]"
   ]
  },
  {
   "cell_type": "code",
   "execution_count": null,
   "metadata": {},
   "outputs": [],
   "source": [
    "config, experiment_name = get_config(\n",
    "    method='entropy',\n",
    "    min_samples=20,\n",
    "    max_samples=200,\n",
    "    acquisition_batch_size=10,\n",
    "    dataset='repeated_mnist',\n",
    "    )\n",
    "\n",
    "print(f'Running {experiment_name} experiment')\n",
    "save_results = True\n",
    "num_runs = 10"
   ]
  },
  {
   "cell_type": "code",
   "execution_count": null,
   "metadata": {},
   "outputs": [],
   "source": [
    "for i in range(num_runs):\n",
    "    current_seed = fixed_seeds[i]\n",
    "    torch.manual_seed(current_seed)\n",
    "    \n",
    "    if torch.cuda.is_available():\n",
    "        torch.cuda.manual_seed(current_seed)\n",
    "        torch.cuda.manual_seed_all(current_seed)\n",
    "\n",
    "    # load data\n",
    "    train_loader, test_loader, pool_loader, active_learning_data = create_dataloaders(config)\n",
    "\n",
    "    print(len(train_loader.dataset), len(test_loader.dataset), len(pool_loader.dataset))\n",
    "    \n",
    "    # get results\n",
    "    results = run_active_learning(\n",
    "        train_loader=train_loader,\n",
    "        test_loader=test_loader, \n",
    "        pool_loader=pool_loader,\n",
    "        active_learning_data=active_learning_data,\n",
    "        model_constructor=get_model_constructor(config.al_method, config.dataset), \n",
    "        config=config, \n",
    "        device=device\n",
    "        )\n",
    "\n",
    "    # save results and configuration\n",
    "    if save_results:\n",
    "        experiment_id = experiment_name + '_' + str(i + 1)\n",
    "        save_experiment(config, results, experiment_id, base_dir='')\n",
    "    \n",
    "    del train_loader, test_loader, pool_loader, active_learning_data"
   ]
  }
 ],
 "metadata": {
  "kernelspec": {
   "display_name": ".venv",
   "language": "python",
   "name": "python3"
  },
  "language_info": {
   "codemirror_mode": {
    "name": "ipython",
    "version": 3
   },
   "file_extension": ".py",
   "mimetype": "text/x-python",
   "name": "python",
   "nbconvert_exporter": "python",
   "pygments_lexer": "ipython3",
   "version": "3.12.1"
  }
 },
 "nbformat": 4,
 "nbformat_minor": 2
}
